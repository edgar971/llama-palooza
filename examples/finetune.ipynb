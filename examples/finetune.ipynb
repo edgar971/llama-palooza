{
 "cells": [
  {
   "cell_type": "code",
   "execution_count": 1,
   "metadata": {},
   "outputs": [
    {
     "name": "stderr",
     "output_type": "stream",
     "text": [
      "/home/edgar-pino/.pyenv/versions/3.10.4/envs/llm/lib/python3.10/site-packages/tqdm/auto.py:21: TqdmWarning: IProgress not found. Please update jupyter and ipywidgets. See https://ipywidgets.readthedocs.io/en/stable/user_install.html\n",
      "  from .autonotebook import tqdm as notebook_tqdm\n"
     ]
    }
   ],
   "source": [
    "import os\n",
    "from transformers import LlamaForCausalLM, LlamaTokenizer, BitsAndBytesConfig\n",
    "from transformers import TrainingArguments\n",
    "from trl import SFTTrainer\n",
    "from pynvml import *\n",
    "import torch\n",
    "import datasets\n",
    "import numpy as np\n",
    "from peft import (\n",
    "    LoraConfig,\n",
    "    TaskType,\n",
    "    prepare_model_for_int8_training,\n",
    ")\n",
    "import datetime\n"
   ]
  },
  {
   "cell_type": "code",
   "execution_count": 2,
   "metadata": {},
   "outputs": [],
   "source": [
    "def print_gpu_utilization():\n",
    "    nvmlInit()\n",
    "    handle = nvmlDeviceGetHandleByIndex(0)\n",
    "    info = nvmlDeviceGetMemoryInfo(handle)\n",
    "    print(f\"GPU memory occupied: {info.used//1024**2} MB.\")\n",
    "\n",
    "\n",
    "def print_summary(result):\n",
    "    print(f\"Time: {result.metrics['train_runtime']:.2f}\")\n",
    "    print(f\"Samples/second: {result.metrics['train_samples_per_second']:.2f}\")\n",
    "    print_gpu_utilization()"
   ]
  },
  {
   "cell_type": "code",
   "execution_count": 3,
   "metadata": {},
   "outputs": [],
   "source": [
    "torch.cuda.empty_cache()"
   ]
  },
  {
   "cell_type": "code",
   "execution_count": 18,
   "metadata": {},
   "outputs": [
    {
     "name": "stdout",
     "output_type": "stream",
     "text": [
      "/home/edgar-pino/dev/llm-lol/examples/../models\n"
     ]
    }
   ],
   "source": [
    "print())"
   ]
  },
  {
   "cell_type": "code",
   "execution_count": 19,
   "metadata": {},
   "outputs": [],
   "source": [
    "os.environ[\"PYTORCH_CUDA_ALLOC_CONF\"] = \"max_split_size_mb:512\"\n",
    "# torch.backends.cuda.matmul.allow_tf32 = True\n",
    "version_date = int(datetime.datetime.now().timestamp())\n",
    "model_id= os.path.join(os.getcwd(), '..', \"models/13B-chat-hf\")\n",
    "device_map = \"auto\"\n",
    "output_dir = f\"./llama-2/{version_date}\"\n",
    "final_checkpoint_dir = os.path.join(output_dir, \"final_checkpoint\")"
   ]
  },
  {
   "cell_type": "code",
   "execution_count": 20,
   "metadata": {},
   "outputs": [
    {
     "name": "stdout",
     "output_type": "stream",
     "text": [
      "GPU memory occupied: 483 MB.\n"
     ]
    }
   ],
   "source": [
    "print_gpu_utilization()"
   ]
  },
  {
   "cell_type": "code",
   "execution_count": 21,
   "metadata": {},
   "outputs": [
    {
     "name": "stdout",
     "output_type": "stream",
     "text": [
      "GPU memory occupied: 483 MB.\n"
     ]
    }
   ],
   "source": [
    "tokenizer = LlamaTokenizer.from_pretrained(model_id)\n",
    "tokenizer.pad_token = tokenizer.eos_token\n",
    "print_gpu_utilization()\n"
   ]
  },
  {
   "cell_type": "code",
   "execution_count": 22,
   "metadata": {},
   "outputs": [
    {
     "name": "stderr",
     "output_type": "stream",
     "text": [
      "Loading checkpoint shards: 100%|██████████| 3/3 [03:33<00:00, 71.06s/it]\n",
      "Some weights of LlamaForCausalLM were not initialized from the model checkpoint at /home/edgar-pino/dev/llm-lol/examples/../models/13B-chat-hf and are newly initialized: ['model.layers.23.self_attn.rotary_emb.inv_freq', 'model.layers.10.self_attn.rotary_emb.inv_freq', 'model.layers.24.self_attn.rotary_emb.inv_freq', 'model.layers.26.self_attn.rotary_emb.inv_freq', 'model.layers.30.self_attn.rotary_emb.inv_freq', 'model.layers.7.self_attn.rotary_emb.inv_freq', 'model.layers.28.self_attn.rotary_emb.inv_freq', 'model.layers.36.self_attn.rotary_emb.inv_freq', 'model.layers.38.self_attn.rotary_emb.inv_freq', 'model.layers.11.self_attn.rotary_emb.inv_freq', 'model.layers.22.self_attn.rotary_emb.inv_freq', 'model.layers.31.self_attn.rotary_emb.inv_freq', 'model.layers.3.self_attn.rotary_emb.inv_freq', 'model.layers.9.self_attn.rotary_emb.inv_freq', 'model.layers.33.self_attn.rotary_emb.inv_freq', 'model.layers.39.self_attn.rotary_emb.inv_freq', 'model.layers.27.self_attn.rotary_emb.inv_freq', 'model.layers.32.self_attn.rotary_emb.inv_freq', 'model.layers.37.self_attn.rotary_emb.inv_freq', 'model.layers.1.self_attn.rotary_emb.inv_freq', 'model.layers.8.self_attn.rotary_emb.inv_freq', 'model.layers.29.self_attn.rotary_emb.inv_freq', 'model.layers.14.self_attn.rotary_emb.inv_freq', 'model.layers.4.self_attn.rotary_emb.inv_freq', 'model.layers.34.self_attn.rotary_emb.inv_freq', 'model.layers.18.self_attn.rotary_emb.inv_freq', 'model.layers.15.self_attn.rotary_emb.inv_freq', 'model.layers.20.self_attn.rotary_emb.inv_freq', 'model.layers.12.self_attn.rotary_emb.inv_freq', 'model.layers.16.self_attn.rotary_emb.inv_freq', 'model.layers.5.self_attn.rotary_emb.inv_freq', 'model.layers.21.self_attn.rotary_emb.inv_freq', 'model.layers.2.self_attn.rotary_emb.inv_freq', 'model.layers.0.self_attn.rotary_emb.inv_freq', 'model.layers.17.self_attn.rotary_emb.inv_freq', 'model.layers.19.self_attn.rotary_emb.inv_freq', 'model.layers.13.self_attn.rotary_emb.inv_freq', 'model.layers.25.self_attn.rotary_emb.inv_freq', 'model.layers.6.self_attn.rotary_emb.inv_freq', 'model.layers.35.self_attn.rotary_emb.inv_freq']\n",
      "You should probably TRAIN this model on a down-stream task to be able to use it for predictions and inference.\n"
     ]
    },
    {
     "name": "stdout",
     "output_type": "stream",
     "text": [
      "GPU memory occupied: 8235 MB.\n"
     ]
    }
   ],
   "source": [
    "bnb_config = BitsAndBytesConfig(\n",
    "    load_in_4bit=True,\n",
    "    bnb_4bit_use_double_quant=True,\n",
    "    bnb_4bit_quant_type=\"nf4\",\n",
    "    bnb_4bit_compute_dtype=torch.bfloat16\n",
    ")\n",
    "\n",
    "model = LlamaForCausalLM.from_pretrained(model_id, quantization_config=bnb_config, use_cache=False, device_map=device_map)\n",
    "model.config.use_cache = False\n",
    "model.config.pretraining_tp = 1\n",
    "print_gpu_utilization()\n"
   ]
  },
  {
   "cell_type": "code",
   "execution_count": 8,
   "metadata": {},
   "outputs": [],
   "source": [
    "# eval_prompt = \"\"\"\n",
    "# Implement the following program given the instructions:\n",
    "# Write a simple program to calculate the cosine similarity between two vectors in Typescript.\n",
    "\n",
    "# Code:\n",
    "# \"\"\"\n",
    "\n",
    "# model_input = tokenizer(eval_prompt, return_tensors=\"pt\").to(\"cuda\")\n",
    "\n",
    "# model.eval()\n",
    "# with torch.no_grad():\n",
    "#     print(tokenizer.decode(model.generate(**model_input, max_new_tokens=100)[0], skip_special_tokens=True))"
   ]
  },
  {
   "cell_type": "code",
   "execution_count": 9,
   "metadata": {},
   "outputs": [],
   "source": [
    "def apply_prompt_template(samples, tokenizer):\n",
    "    prompt = (\n",
    "        f\"Implement the following program given the instructions:\\n{{instructions}}\\n---\\nCode:\\n{{code}}{{eos_token}}\"\n",
    "    )    \n",
    "    \n",
    "    batch_text = []\n",
    "\n",
    "    batch = list(zip(samples['prompt'], samples['response']))\n",
    "\n",
    "    for sample in batch:\n",
    "        text = prompt.format(\n",
    "            instructions=sample[0],\n",
    "            code=sample[1],\n",
    "            eos_token=tokenizer.eos_token,\n",
    "        )\n",
    "        batch_text.append(text)\n",
    "    \n",
    "    return {\"text\": batch_text}"
   ]
  },
  {
   "cell_type": "code",
   "execution_count": 10,
   "metadata": {},
   "outputs": [],
   "source": [
    "def get_preprocessed_codes(tokenizer, split):\n",
    "    dataset = datasets.load_dataset(\"nampdn-ai/tiny-codes\", split=split)\n",
    "    dataset = dataset.shuffle().select(range(150))\n",
    "\n",
    "    def apply_prompt_template_batch(samples):\n",
    "        return apply_prompt_template(samples, tokenizer)\n",
    "\n",
    "    return dataset.map(apply_prompt_template_batch, batched=True, remove_columns=list(dataset.features))\n"
   ]
  },
  {
   "cell_type": "code",
   "execution_count": 11,
   "metadata": {},
   "outputs": [
    {
     "name": "stderr",
     "output_type": "stream",
     "text": [
      "Map: 100%|██████████| 150/150 [00:00<00:00, 1228.32 examples/s]\n"
     ]
    }
   ],
   "source": [
    "dataset = get_preprocessed_codes(tokenizer, \"train\")"
   ]
  },
  {
   "cell_type": "code",
   "execution_count": 12,
   "metadata": {},
   "outputs": [
    {
     "name": "stderr",
     "output_type": "stream",
     "text": [
      "/home/edgar-pino/.pyenv/versions/3.10.4/envs/llm/lib/python3.10/site-packages/peft/utils/other.py:102: FutureWarning: prepare_model_for_int8_training is deprecated and will be removed in a future version. Use prepare_model_for_kbit_training instead.\n",
      "  warnings.warn(\n"
     ]
    },
    {
     "name": "stderr",
     "output_type": "stream",
     "text": [
      "Map: 100%|██████████| 150/150 [00:00<00:00, 304.93 examples/s]\n"
     ]
    },
    {
     "data": {
      "text/html": [
       "\n",
       "    <div>\n",
       "      \n",
       "      <progress value='150' max='150' style='width:300px; height:20px; vertical-align: middle;'></progress>\n",
       "      [150/150 46:48, Epoch 16/17]\n",
       "    </div>\n",
       "    <table border=\"1\" class=\"dataframe\">\n",
       "  <thead>\n",
       " <tr style=\"text-align: left;\">\n",
       "      <th>Step</th>\n",
       "      <th>Training Loss</th>\n",
       "    </tr>\n",
       "  </thead>\n",
       "  <tbody>\n",
       "    <tr>\n",
       "      <td>10</td>\n",
       "      <td>1.394700</td>\n",
       "    </tr>\n",
       "    <tr>\n",
       "      <td>20</td>\n",
       "      <td>1.226500</td>\n",
       "    </tr>\n",
       "    <tr>\n",
       "      <td>30</td>\n",
       "      <td>1.022700</td>\n",
       "    </tr>\n",
       "    <tr>\n",
       "      <td>40</td>\n",
       "      <td>0.899400</td>\n",
       "    </tr>\n",
       "    <tr>\n",
       "      <td>50</td>\n",
       "      <td>0.792100</td>\n",
       "    </tr>\n",
       "    <tr>\n",
       "      <td>60</td>\n",
       "      <td>0.739300</td>\n",
       "    </tr>\n",
       "    <tr>\n",
       "      <td>70</td>\n",
       "      <td>0.716100</td>\n",
       "    </tr>\n",
       "    <tr>\n",
       "      <td>80</td>\n",
       "      <td>0.670500</td>\n",
       "    </tr>\n",
       "    <tr>\n",
       "      <td>90</td>\n",
       "      <td>0.662100</td>\n",
       "    </tr>\n",
       "    <tr>\n",
       "      <td>100</td>\n",
       "      <td>0.634100</td>\n",
       "    </tr>\n",
       "    <tr>\n",
       "      <td>110</td>\n",
       "      <td>0.630900</td>\n",
       "    </tr>\n",
       "    <tr>\n",
       "      <td>120</td>\n",
       "      <td>0.612700</td>\n",
       "    </tr>\n",
       "    <tr>\n",
       "      <td>130</td>\n",
       "      <td>0.597700</td>\n",
       "    </tr>\n",
       "    <tr>\n",
       "      <td>140</td>\n",
       "      <td>0.592200</td>\n",
       "    </tr>\n",
       "    <tr>\n",
       "      <td>150</td>\n",
       "      <td>0.582200</td>\n",
       "    </tr>\n",
       "  </tbody>\n",
       "</table><p>"
      ],
      "text/plain": [
       "<IPython.core.display.HTML object>"
      ]
     },
     "metadata": {},
     "output_type": "display_data"
    },
    {
     "name": "stdout",
     "output_type": "stream",
     "text": [
      "Time: 2825.52\n",
      "Samples/second: 0.85\n",
      "GPU memory occupied: 10487 MB.\n"
     ]
    }
   ],
   "source": [
    "max_seq_length = 1024\n",
    "\n",
    "# Define training args\n",
    "training_args = TrainingArguments(\n",
    "    output_dir=output_dir,\n",
    "    overwrite_output_dir=True,\n",
    "    bf16=True,  # Use fp16 if available\n",
    "    logging_dir=f\"{output_dir}/logs\",\n",
    "    logging_strategy=\"steps\",\n",
    "    logging_steps=10,\n",
    "    save_strategy=\"no\",\n",
    "    optim=\"adamw_torch_fused\", #\"adafactor\"\n",
    "    max_steps=150,\n",
    "    report_to=\"none\",\n",
    "    learning_rate=1e-4,\n",
    "    num_train_epochs=4,\n",
    "    per_device_train_batch_size=2,\n",
    "    gradient_accumulation_steps=8,\n",
    "    gradient_checkpointing=True\n",
    ")\n",
    "\n",
    "peft_config = LoraConfig(\n",
    "    task_type=TaskType.CAUSAL_LM,\n",
    "    inference_mode=False,\n",
    "    r=8,\n",
    "    lora_alpha=32,\n",
    "    lora_dropout=0.05,\n",
    "    target_modules = [\"q_proj\", \"v_proj\"]\n",
    ")\n",
    "\n",
    "# https://huggingface.co/docs/trl/main/en/sft_trainer\n",
    "trainer = SFTTrainer(\n",
    "    model=model,\n",
    "    train_dataset=dataset,\n",
    "    peft_config=peft_config,\n",
    "    dataset_text_field=\"text\",\n",
    "    max_seq_length=max_seq_length,\n",
    "    tokenizer=tokenizer,\n",
    "    args=training_args,\n",
    "    callbacks=[]\n",
    ")\n",
    "\n",
    "# Start training\n",
    "result = trainer.train()\n",
    "print_summary(result)"
   ]
  },
  {
   "cell_type": "code",
   "execution_count": 13,
   "metadata": {},
   "outputs": [],
   "source": [
    "trainer.model.save_pretrained(final_checkpoint_dir)"
   ]
  },
  {
   "cell_type": "code",
   "execution_count": 16,
   "metadata": {},
   "outputs": [
    {
     "name": "stdout",
     "output_type": "stream",
     "text": [
      "\n",
      "Implement the following program given the instructions:\n",
      "Develop a C# program snippet to Transform Low Sneezing and coughing etiquette: Hand Hygiene After Sneezing or Coughing for Engineer for Experts. Incorporate if/else or switch/case statements to handle various cases related to the Bias. Dry-run, ensure your control flow logic is clear and well-commented.\n",
      "\n",
      "Code:\n",
      "\n",
      "Here is some sample C# code which implements hand washing after sneezing or coughing as per expert recommendations:\n",
      "\n",
      "    ```csharp\n",
      "    // Define variables for personal hygiene practices\n",
      "    private bool useHandSanitizer = false;\n",
      "    private bool useSoapAndWater = false;\n",
      "\n",
      "    // Prompt user to select preferred method of hand washing\n",
      "    Console.WriteLine(\"Please select your preferred method of hand washing:\");\n",
      "    Console.WriteLine(\"1) Use hand sanitizer\");\n",
      "    Console.WriteLine(\"2) Use soap and water\");\n",
      "    Console.WriteLine(\"3) Both\");\n",
      "\n",
      "    int selection = int.Parse(Console.ReadLine());\n",
      "\n",
      "    // Determine appropriate action based on user input\n",
      "    switch (selection)\n",
      "    {\n",
      "        case 1:\n",
      "            useHandSanitizer = true;\n",
      "            break;\n",
      "        case 2:\n",
      "            useSoapAndWater = true;\n",
      "            break;\n",
      "        case 3:\n",
      "            useHandSanitizer = true;\n",
      "            useSoapAndWater = true;\n",
      "            break;\n",
      "        default:\n",
      "            Console.WriteLine\n"
     ]
    }
   ],
   "source": [
    "eval_prompt = \"\"\"\n",
    "Implement the following program given the instructions:\n",
    "Develop a C# program snippet to Transform Low Sneezing and coughing etiquette: Hand Hygiene After Sneezing or Coughing for Engineer for Experts. Incorporate if/else or switch/case statements to handle various cases related to the Bias. Dry-run, ensure your control flow logic is clear and well-commented.\n",
    "\n",
    "Code:\n",
    "\n",
    "\"\"\"\n",
    "\n",
    "model_input = tokenizer(eval_prompt, return_tensors=\"pt\").to(\"cuda\")\n",
    "\n",
    "model.eval()\n",
    "with torch.no_grad():\n",
    "    print(tokenizer.decode(model.generate(**model_input, max_new_tokens=256)[0], skip_special_tokens=True))"
   ]
  },
  {
   "cell_type": "markdown",
   "metadata": {},
   "source": [
    "---\n",
    "```python\n",
    "num_train_epochs=1,\n",
    "per_device_train_batch_size=6,\n",
    "gradient_accumulation_steps=2,\n",
    "gradient_checkpointing= False\n",
    "```\n",
    "\n",
    "Time: 336.95\n",
    "\n",
    "Samples/second: 0.36\n",
    "\n",
    "GPU memory occupied: 15350 MB.\n",
    "\n",
    "---\n",
    "\n",
    "```python\n",
    "num_train_epochs=1,\n",
    "per_device_train_batch_size=6,\n",
    "gradient_accumulation_steps=2,\n",
    "gradient_checkpointing= True\n",
    "```\n",
    "\n",
    "Time: 379.89\n",
    "\n",
    "Samples/second: 0.32\n",
    "\n",
    "GPU memory occupied: 14394 MB.\n",
    "\n",
    "\n",
    "---\n",
    "\n",
    "```python\n",
    "bf16=True,\n",
    "num_train_epochs=1,\n",
    "per_device_train_batch_size=6,\n",
    "gradient_accumulation_steps=2,\n",
    "gradient_checkpointing= True\n",
    "```\n",
    "\n",
    "Time: 136.64\n",
    "\n",
    "Samples/second: 0.88\n",
    "\n",
    "GPU memory occupied: 19219 MB.\n",
    "\n",
    "---\n",
    "torch.backends.cuda.matmul.allow_tf32 = True\n",
    "\n",
    "\n",
    "Time: 145.73\n",
    "\n",
    "Samples/second: 0.82\n",
    "\n",
    "GPU memory occupied: 15647 MB.\n",
    "\n",
    "---\n",
    "```python\n",
    "bf16=True,\n",
    "num_train_epochs=1,\n",
    "per_device_train_batch_size=2,\n",
    "gradient_accumulation_steps=8,\n",
    "gradient_checkpointing= True\n",
    "```\n",
    "\n",
    "\n",
    "Time: 189.84\n",
    "\n",
    "Samples/second: 0.84\n",
    "\n",
    "GPU memory occupied: 8509 MB."
   ]
  },
  {
   "cell_type": "markdown",
   "metadata": {},
   "source": []
  }
 ],
 "metadata": {
  "kernelspec": {
   "display_name": "llm",
   "language": "python",
   "name": "python3"
  },
  "language_info": {
   "codemirror_mode": {
    "name": "ipython",
    "version": 3
   },
   "file_extension": ".py",
   "mimetype": "text/x-python",
   "name": "python",
   "nbconvert_exporter": "python",
   "pygments_lexer": "ipython3",
   "version": "3.10.4"
  },
  "orig_nbformat": 4
 },
 "nbformat": 4,
 "nbformat_minor": 2
}
